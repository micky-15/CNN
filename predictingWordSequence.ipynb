{
 "cells": [
  {
   "cell_type": "code",
   "execution_count": 1,
   "id": "e674d743",
   "metadata": {},
   "outputs": [],
   "source": [
    "# imorting libraries\n",
    "\n",
    "import numpy as np\n",
    "import matplotlib.pyplot as plt\n",
    "from tensorflow.keras.models import Sequential\n",
    "from tensorflow.keras.utils import to_categorical\n",
    "from tensorflow.keras.preprocessing.text import Tokenizer\n",
    "from tensorflow.keras.preprocessing.sequence import pad_sequences\n",
    "from tensorflow.keras.layers import Embedding, LSTM, Dense, Bidirectional"
   ]
  },
  {
   "cell_type": "code",
   "execution_count": 2,
   "id": "fc7fdd5b",
   "metadata": {},
   "outputs": [
    {
     "name": "stdout",
     "output_type": "stream",
     "text": [
      "There are 2159 lines of sonnets\n",
      "\n",
      "The first 5 lines look like this:\n",
      "\n",
      "from fairest creatures we desire increase,\n",
      "that thereby beauty's rose might never die,\n",
      "but as the riper should by time decease,\n",
      "his tender heir might bear his memory:\n",
      "but thou, contracted to thine own bright eyes,\n"
     ]
    }
   ],
   "source": [
    "# Define path for file with sonnets\n",
    "SONNETS_FILE = 'sonnets.txt'\n",
    "\n",
    "# Read the data\n",
    "with open('sonnets.txt') as f:\n",
    "    data = f.read()\n",
    "\n",
    "# Convert to lower case and save as a list\n",
    "corpus = data.lower().split(\"\\n\")\n",
    "\n",
    "print(f\"There are {len(corpus)} lines of sonnets\\n\")\n",
    "print(f\"The first 5 lines look like this:\\n\")\n",
    "for i in range(5):\n",
    "  print(corpus[i])"
   ]
  },
  {
   "cell_type": "code",
   "execution_count": 3,
   "id": "52fcf35f",
   "metadata": {},
   "outputs": [],
   "source": [
    "# Tokenizing the text\n",
    "\n",
    "tokenizer = Tokenizer()\n",
    "tokenizer.fit_on_texts(corpus)\n",
    "total_words = len(tokenizer.word_index) + 1"
   ]
  },
  {
   "cell_type": "code",
   "execution_count": 5,
   "id": "a5f9a6c9",
   "metadata": {},
   "outputs": [
    {
     "data": {
      "text/plain": [
       "[[34, 417, 877, 166, 213, 517]]"
      ]
     },
     "execution_count": 5,
     "metadata": {},
     "output_type": "execute_result"
    }
   ],
   "source": [
    "\n",
    "tokenizer.texts_to_sequences([corpus[0]])\n",
    "tokenizer.texts_to_sequences([corpus[0]])[0]"
   ]
  },
  {
   "cell_type": "code",
   "execution_count": 6,
   "id": "c8861ed6",
   "metadata": {},
   "outputs": [],
   "source": [
    "\n",
    "def n_gram_seqs(corpus, tokenizer):\n",
    "    \"\"\"\n",
    "    Generates a list of n-gram sequences\n",
    "\n",
    "    Args:\n",
    "        corpus (list of string): lines of texts to generate n-grams for\n",
    "        tokenizer (object): an instance of the Tokenizer class containing the word-index dictionary\n",
    "\n",
    "    Returns:\n",
    "        input_sequences (list of int): the n-gram sequences for each line in the corpus\n",
    "    \"\"\"\n",
    "    input_sequences = []\n",
    "\n",
    "\n",
    "    tokenized =tokenizer.texts_to_sequences(corpus)\n",
    "    for token in tokenized:\n",
    "      length =len(token)\n",
    "      for i in range(1,length):\n",
    "        input_sequences.append(token[:i+1])\n",
    "\n",
    "\n",
    "    return input_sequences"
   ]
  },
  {
   "cell_type": "code",
   "execution_count": 7,
   "id": "1d931f13",
   "metadata": {},
   "outputs": [
    {
     "name": "stdout",
     "output_type": "stream",
     "text": [
      "n_gram sequences for first example look like this:\n",
      "\n"
     ]
    },
    {
     "data": {
      "text/plain": [
       "[[34, 417],\n",
       " [34, 417, 877],\n",
       " [34, 417, 877, 166],\n",
       " [34, 417, 877, 166, 213],\n",
       " [34, 417, 877, 166, 213, 517]]"
      ]
     },
     "execution_count": 7,
     "metadata": {},
     "output_type": "execute_result"
    }
   ],
   "source": [
    "# Test function with one example\n",
    "first_example_sequence = n_gram_seqs([corpus[0]], tokenizer)\n",
    "\n",
    "print(\"n_gram sequences for first example look like this:\\n\")\n",
    "first_example_sequence"
   ]
  },
  {
   "cell_type": "code",
   "execution_count": 8,
   "id": "0b49c82a",
   "metadata": {},
   "outputs": [
    {
     "name": "stdout",
     "output_type": "stream",
     "text": [
      "n_grams of input_sequences have length: 15462\n",
      "maximum length of sequences is: 11\n"
     ]
    }
   ],
   "source": [
    "# Apply the n_gram_seqs transformation to the whole corpus\n",
    "input_sequences = n_gram_seqs(corpus, tokenizer)\n",
    "\n",
    "# Save max length for padding\n",
    "max_sequence_len = max([len(x) for x in input_sequences])\n",
    "\n",
    "print(f\"n_grams of input_sequences have length: {len(input_sequences)}\")\n",
    "print(f\"maximum length of sequences is: {max_sequence_len}\")"
   ]
  },
  {
   "cell_type": "code",
   "execution_count": 9,
   "id": "8e45cc17",
   "metadata": {},
   "outputs": [],
   "source": [
    "def pad_seqs(input_sequences, maxlen):\n",
    "    \"\"\"\n",
    "    Pads tokenized sequences to the same length\n",
    "\n",
    "    Args:\n",
    "        input_sequences (list of int): tokenized sequences to pad\n",
    "        maxlen (int): maximum length of the token sequences\n",
    "\n",
    "    Returns:\n",
    "        padded_sequences (array of int): tokenized sequences padded to the same length\n",
    "    \"\"\"\n",
    "\n",
    "    padded_sequences = pad_sequences(input_sequences,maxlen =maxlen)\n",
    "\n",
    "    return padded_sequences\n"
   ]
  },
  {
   "cell_type": "code",
   "execution_count": 10,
   "id": "656654fa",
   "metadata": {},
   "outputs": [
    {
     "data": {
      "text/plain": [
       "array([[  0,   0,   0,   0,  34, 417],\n",
       "       [  0,   0,   0,  34, 417, 877],\n",
       "       [  0,   0,  34, 417, 877, 166],\n",
       "       [  0,  34, 417, 877, 166, 213],\n",
       "       [ 34, 417, 877, 166, 213, 517]])"
      ]
     },
     "execution_count": 10,
     "metadata": {},
     "output_type": "execute_result"
    }
   ],
   "source": [
    "# Test your function with the n_grams_seq of the first example\n",
    "first_padded_seq = pad_seqs(first_example_sequence, max([len(x) for x in first_example_sequence]))\n",
    "first_padded_seq"
   ]
  },
  {
   "cell_type": "code",
   "execution_count": 11,
   "id": "93c241be",
   "metadata": {},
   "outputs": [
    {
     "name": "stdout",
     "output_type": "stream",
     "text": [
      "padded corpus has shape: (15462, 11)\n"
     ]
    }
   ],
   "source": [
    "\n",
    "# Pad the whole corpus\n",
    "input_sequences = pad_seqs(input_sequences, max_sequence_len)\n",
    "\n",
    "print(f\"padded corpus has shape: {input_sequences.shape}\")"
   ]
  },
  {
   "cell_type": "code",
   "execution_count": 12,
   "id": "22ff993f",
   "metadata": {},
   "outputs": [],
   "source": [
    "def features_and_labels(input_sequences, total_words):\n",
    "    \"\"\"\n",
    "    Generates features and labels from n-grams\n",
    "\n",
    "    Args:\n",
    "        input_sequences (list of int): sequences to split features and labels from\n",
    "        total_words (int): vocabulary size\n",
    "\n",
    "    Returns:\n",
    "        features, one_hot_labels (array of int, array of int): arrays of features and one-hot encoded labels\n",
    "    \"\"\"\n",
    "    features = input_sequences[:,:-1]\n",
    "    labels = input_sequences[:,-1]\n",
    "    one_hot_labels = to_categorical(labels, num_classes=total_words)\n",
    "\n",
    "    return features, one_hot_labels"
   ]
  },
  {
   "cell_type": "code",
   "execution_count": 13,
   "id": "0e2a3a84",
   "metadata": {},
   "outputs": [
    {
     "name": "stdout",
     "output_type": "stream",
     "text": [
      "labels have shape: (5, 3211)\n",
      "\n",
      "features look like this:\n",
      "\n"
     ]
    },
    {
     "data": {
      "text/plain": [
       "array([[  0,   0,   0,   0,  34],\n",
       "       [  0,   0,   0,  34, 417],\n",
       "       [  0,   0,  34, 417, 877],\n",
       "       [  0,  34, 417, 877, 166],\n",
       "       [ 34, 417, 877, 166, 213]])"
      ]
     },
     "execution_count": 13,
     "metadata": {},
     "output_type": "execute_result"
    }
   ],
   "source": [
    "# Test your function with the padded n_grams_seq of the first example\n",
    "first_features, first_labels = features_and_labels(first_padded_seq, total_words)\n",
    "\n",
    "print(f\"labels have shape: {first_labels.shape}\")\n",
    "print(\"\\nfeatures look like this:\\n\")\n",
    "first_features"
   ]
  },
  {
   "cell_type": "code",
   "execution_count": 14,
   "id": "9b58c05f",
   "metadata": {},
   "outputs": [
    {
     "name": "stdout",
     "output_type": "stream",
     "text": [
      "features have shape: (15462, 10)\n",
      "labels have shape: (15462, 3211)\n"
     ]
    }
   ],
   "source": [
    "\n",
    "# Split the whole corpus\n",
    "features, labels = features_and_labels(input_sequences, total_words)\n",
    "\n",
    "print(f\"features have shape: {features.shape}\")\n",
    "print(f\"labels have shape: {labels.shape}\")"
   ]
  },
  {
   "cell_type": "code",
   "execution_count": 15,
   "id": "e8fead65",
   "metadata": {},
   "outputs": [],
   "source": [
    "\n",
    "def create_model(total_words, max_sequence_len):\n",
    "    \"\"\"\n",
    "    Creates a text generator model\n",
    "\n",
    "    Args:\n",
    "        total_words (int): size of the vocabulary for the Embedding layer input\n",
    "        max_sequence_len (int): length of the input sequences\n",
    "\n",
    "    Returns:\n",
    "        model (tf.keras Model): the text generator model\n",
    "    \"\"\"\n",
    "    model = Sequential()\n",
    "    model.add(Embedding(total_words, 100, input_length=max_sequence_len-1))\n",
    "    model.add(Bidirectional(LSTM(64)))\n",
    "    model.add(Dense(total_words,activation ='softmax'))\n",
    "\n",
    "\n",
    "\n",
    "    model.compile(loss='categorical_crossentropy',\n",
    "                  optimizer='adam',\n",
    "                  metrics=['accuracy'])\n",
    "\n",
    "\n",
    "    return model"
   ]
  },
  {
   "cell_type": "code",
   "execution_count": 16,
   "id": "a895b9e6",
   "metadata": {},
   "outputs": [
    {
     "name": "stdout",
     "output_type": "stream",
     "text": [
      "Epoch 1/50\n",
      "484/484 [==============================] - 10s 14ms/step - loss: 6.8885 - accuracy: 0.0237\n",
      "Epoch 2/50\n",
      "484/484 [==============================] - 7s 14ms/step - loss: 6.4686 - accuracy: 0.0260\n",
      "Epoch 3/50\n",
      "484/484 [==============================] - 7s 14ms/step - loss: 6.2922 - accuracy: 0.0350\n",
      "Epoch 4/50\n",
      "484/484 [==============================] - 7s 15ms/step - loss: 6.1032 - accuracy: 0.0433\n",
      "Epoch 5/50\n",
      "484/484 [==============================] - 7s 15ms/step - loss: 5.8986 - accuracy: 0.0521\n",
      "Epoch 6/50\n",
      "484/484 [==============================] - 7s 15ms/step - loss: 5.6809 - accuracy: 0.0614\n",
      "Epoch 7/50\n",
      "484/484 [==============================] - 7s 15ms/step - loss: 5.4527 - accuracy: 0.0731\n",
      "Epoch 8/50\n",
      "484/484 [==============================] - 7s 15ms/step - loss: 5.2288 - accuracy: 0.0831\n",
      "Epoch 9/50\n",
      "484/484 [==============================] - 7s 15ms/step - loss: 5.0158 - accuracy: 0.0953\n",
      "Epoch 10/50\n",
      "484/484 [==============================] - 7s 15ms/step - loss: 4.8160 - accuracy: 0.1070\n",
      "Epoch 11/50\n",
      "484/484 [==============================] - 7s 15ms/step - loss: 4.6264 - accuracy: 0.1237\n",
      "Epoch 12/50\n",
      "484/484 [==============================] - 7s 15ms/step - loss: 4.4359 - accuracy: 0.1411\n",
      "Epoch 13/50\n",
      "484/484 [==============================] - 7s 15ms/step - loss: 4.2523 - accuracy: 0.1641\n",
      "Epoch 14/50\n",
      "484/484 [==============================] - 7s 15ms/step - loss: 4.0700 - accuracy: 0.1876\n",
      "Epoch 15/50\n",
      "484/484 [==============================] - 7s 15ms/step - loss: 3.8973 - accuracy: 0.2133\n",
      "Epoch 16/50\n",
      "484/484 [==============================] - 7s 15ms/step - loss: 3.7233 - accuracy: 0.2452\n",
      "Epoch 17/50\n",
      "484/484 [==============================] - 7s 14ms/step - loss: 3.5601 - accuracy: 0.2736\n",
      "Epoch 18/50\n",
      "484/484 [==============================] - 7s 14ms/step - loss: 3.4025 - accuracy: 0.3019\n",
      "Epoch 19/50\n",
      "484/484 [==============================] - 7s 14ms/step - loss: 3.2483 - accuracy: 0.3306\n",
      "Epoch 20/50\n",
      "484/484 [==============================] - 7s 14ms/step - loss: 3.1008 - accuracy: 0.3598\n",
      "Epoch 21/50\n",
      "484/484 [==============================] - 7s 14ms/step - loss: 2.9615 - accuracy: 0.3833\n",
      "Epoch 22/50\n",
      "484/484 [==============================] - 7s 15ms/step - loss: 2.8332 - accuracy: 0.4067\n",
      "Epoch 23/50\n",
      "484/484 [==============================] - 7s 14ms/step - loss: 2.7103 - accuracy: 0.4334\n",
      "Epoch 24/50\n",
      "484/484 [==============================] - 7s 14ms/step - loss: 2.5928 - accuracy: 0.4575\n",
      "Epoch 25/50\n",
      "484/484 [==============================] - 7s 14ms/step - loss: 2.4792 - accuracy: 0.4820\n",
      "Epoch 26/50\n",
      "484/484 [==============================] - 7s 14ms/step - loss: 2.3844 - accuracy: 0.5001\n",
      "Epoch 27/50\n",
      "484/484 [==============================] - 7s 15ms/step - loss: 2.2899 - accuracy: 0.5171\n",
      "Epoch 28/50\n",
      "484/484 [==============================] - 7s 15ms/step - loss: 2.2019 - accuracy: 0.5384\n",
      "Epoch 29/50\n",
      "484/484 [==============================] - 7s 15ms/step - loss: 2.1019 - accuracy: 0.5557\n",
      "Epoch 30/50\n",
      "484/484 [==============================] - 7s 14ms/step - loss: 2.0238 - accuracy: 0.5744\n",
      "Epoch 31/50\n",
      "484/484 [==============================] - 7s 14ms/step - loss: 1.9522 - accuracy: 0.5834\n",
      "Epoch 32/50\n",
      "484/484 [==============================] - 7s 14ms/step - loss: 1.8808 - accuracy: 0.6045\n",
      "Epoch 33/50\n",
      "484/484 [==============================] - 7s 14ms/step - loss: 1.8015 - accuracy: 0.6188\n",
      "Epoch 34/50\n",
      "484/484 [==============================] - 7s 14ms/step - loss: 1.7328 - accuracy: 0.6326\n",
      "Epoch 35/50\n",
      "484/484 [==============================] - 7s 14ms/step - loss: 1.6651 - accuracy: 0.6495\n",
      "Epoch 36/50\n",
      "484/484 [==============================] - 7s 14ms/step - loss: 1.6092 - accuracy: 0.6599\n",
      "Epoch 37/50\n",
      "484/484 [==============================] - 7s 15ms/step - loss: 1.5560 - accuracy: 0.6697\n",
      "Epoch 38/50\n",
      "484/484 [==============================] - 7s 14ms/step - loss: 1.4940 - accuracy: 0.6843\n",
      "Epoch 39/50\n",
      "484/484 [==============================] - 7s 15ms/step - loss: 1.4376 - accuracy: 0.6955\n",
      "Epoch 40/50\n",
      "484/484 [==============================] - 7s 15ms/step - loss: 1.3967 - accuracy: 0.7031\n",
      "Epoch 41/50\n",
      "484/484 [==============================] - 7s 14ms/step - loss: 1.3488 - accuracy: 0.7165\n",
      "Epoch 42/50\n",
      "484/484 [==============================] - 7s 15ms/step - loss: 1.3092 - accuracy: 0.7233\n",
      "Epoch 43/50\n",
      "484/484 [==============================] - 7s 15ms/step - loss: 1.2613 - accuracy: 0.7347\n",
      "Epoch 44/50\n",
      "484/484 [==============================] - 7s 15ms/step - loss: 1.2183 - accuracy: 0.7406\n",
      "Epoch 45/50\n",
      "484/484 [==============================] - 7s 15ms/step - loss: 1.1820 - accuracy: 0.7478\n",
      "Epoch 46/50\n",
      "484/484 [==============================] - 7s 14ms/step - loss: 1.1490 - accuracy: 0.7533\n",
      "Epoch 47/50\n",
      "484/484 [==============================] - 7s 15ms/step - loss: 1.1124 - accuracy: 0.7626\n",
      "Epoch 48/50\n",
      "484/484 [==============================] - 7s 15ms/step - loss: 1.0787 - accuracy: 0.7696\n",
      "Epoch 49/50\n",
      "484/484 [==============================] - 7s 14ms/step - loss: 1.0441 - accuracy: 0.7767\n",
      "Epoch 50/50\n",
      "484/484 [==============================] - 7s 14ms/step - loss: 1.0189 - accuracy: 0.7829\n"
     ]
    }
   ],
   "source": [
    "# Get the untrained model\n",
    "model = create_model(total_words, max_sequence_len)\n",
    "\n",
    "# Train the model\n",
    "history = model.fit(features, labels, epochs=50, verbose=1)"
   ]
  },
  {
   "cell_type": "code",
   "execution_count": 17,
   "id": "6a0e7cd3",
   "metadata": {},
   "outputs": [
    {
     "data": {
      "image/png": "[encoded data removed]",
      "text/plain": [
       "<Figure size 640x480 with 1 Axes>"
      ]
     },
     "metadata": {},
     "output_type": "display_data"
    },
    {
     "data": {
      "image/png": "[encoded data removed]",
      "text/plain": [
       "<Figure size 640x480 with 1 Axes>"
      ]
     },
     "metadata": {},
     "output_type": "display_data"
    }
   ],
   "source": [
    "# Take a look at the training curves of your model\n",
    "\n",
    "acc = history.history['accuracy']\n",
    "loss = history.history['loss']\n",
    "\n",
    "epochs = range(len(acc))\n",
    "\n",
    "plt.plot(epochs, acc, 'b', label='Training accuracy')\n",
    "plt.title('Training accuracy')\n",
    "\n",
    "plt.figure()\n",
    "\n",
    "plt.plot(epochs, loss, 'b', label='Training Loss')\n",
    "plt.title('Training loss')\n",
    "plt.legend()\n",
    "\n",
    "plt.show()"
   ]
  },
  {
   "cell_type": "code",
   "execution_count": 18,
   "id": "48e6f6ed",
   "metadata": {},
   "outputs": [
    {
     "name": "stdout",
     "output_type": "stream",
     "text": [
      "Help me Obi Wan Kenobi, you're my only hope thy fair name telling up to flow violet perusal delighted splendor hid it quite growest so be a journey beauteous fair too much worth held bare impediments engrafted others toward space eyed lie from me my friend can be so well doth lie from me ill be not so such as mine fair true one best prey more even less in the spring of scorn to be minds back thence devise wide much is seen to too lie cruel true change best i know not bright in eyes shall lie is it shall lie but true a praise well could\n"
     ]
    }
   ],
   "source": [
    "# predicting words after the given text\n",
    "\n",
    "seed_text = \"Help me Obi Wan Kenobi, you're my only hope\"\n",
    "next_words = 100\n",
    "\n",
    "for _ in range(next_words):\n",
    "    # Convert the text into sequences\n",
    "    token_list = tokenizer.texts_to_sequences([seed_text])[0]\n",
    "    # Pad the sequences\n",
    "    token_list = pad_sequences([token_list], maxlen=max_sequence_len-1, padding='pre')\n",
    "    # Get the probabilities of predicting a word\n",
    "    predicted = model.predict(token_list, verbose=0)\n",
    "    # Choose the next word based on the maximum probability\n",
    "    predicted = np.argmax(predicted, axis=-1).item()\n",
    "    # Get the actual word from the word index\n",
    "    output_word = tokenizer.index_word[predicted]\n",
    "    # Append to the current text\n",
    "    seed_text += \" \" + output_word\n",
    "\n",
    "print(seed_text)"
   ]
  },
  {
   "cell_type": "code",
   "execution_count": null,
   "id": "6554e3d3",
   "metadata": {},
   "outputs": [],
   "source": []
  }
 ],
 "metadata": {
  "kernelspec": {
   "display_name": "Python 3 (ipykernel)",
   "language": "python",
   "name": "python3"
  },
  "language_info": {
   "codemirror_mode": {
    "name": "ipython",
    "version": 3
   },
   "file_extension": ".py",
   "mimetype": "text/x-python",
   "name": "python",
   "nbconvert_exporter": "python",
   "pygments_lexer": "ipython3",
   "version": "3.11.3"
  }
 },
 "nbformat": 4,
 "nbformat_minor": 5
}
